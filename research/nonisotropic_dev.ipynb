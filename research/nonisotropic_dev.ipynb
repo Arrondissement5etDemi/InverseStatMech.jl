{
 "cells": [
  {
   "cell_type": "code",
   "execution_count": 8,
   "id": "34a991ed",
   "metadata": {},
   "outputs": [
    {
     "data": {
      "text/plain": [
       "inv_fourier (generic function with 1 method)"
      ]
     },
     "metadata": {},
     "output_type": "display_data"
    }
   ],
   "source": [
    "using Rotations, LinearAlgebra\n",
    "include(\"../src/helper_funcs.jl\")"
   ]
  },
  {
   "cell_type": "markdown",
   "id": "7b7bdd35",
   "metadata": {},
   "source": [
    "# Modeling globular protein monomers and their interactions"
   ]
  },
  {
   "cell_type": "markdown",
   "id": "342e54ef",
   "metadata": {},
   "source": []
  },
  {
   "cell_type": "markdown",
   "id": "2daa3f37",
   "metadata": {},
   "source": [
    "The goal is to create a pairwise interaction between two actin monomers, that not only depend on their distance, but also their relative orientations (the angle between their directrices?).\n",
    "\n",
    "This requires a special data structure for each monomer, that contains its coordinates in 3D but also 3 vectors that \"orient\" the monomer."
   ]
  },
  {
   "cell_type": "code",
   "execution_count": 9,
   "id": "ffe3d183",
   "metadata": {},
   "outputs": [],
   "source": [
    "mutable struct Monomer\n",
    "    coord::Vector{Float64}\n",
    "    orientation::Matrix{Float64} #3 unit vectors\n",
    "    radius::Float64 #hard sphere radius\n",
    "    patch_orientations::Matrix{Float64} #orientations of the attractive patches on the surface of the hard sphere, unit vectors\n",
    "    patch_radii::Vector{Float64} #radii of the attractive patches\n",
    "end"
   ]
  },
  {
   "cell_type": "markdown",
   "id": "25f63c96",
   "metadata": {},
   "source": [
    "Now the \"distance\" between two monomers is not just their Euclidean distance, but also the difference between their orientations, characterized by the rotation matrix $R$ that transforms one orientation to another.\n",
    "$RA = B$, where $R$ is the rotation matrix that we want to solve. We have $R = BA^{-1}$.\n",
    "\n",
    "So the pair potential is basically $v_{ij}(\\Delta \\mathbf{r}_{ij}, R_{ij})$. This is way too complicated as it depends on 12 scalars (3 for the vector, 9 for the rotation matrix). To simplify the interactions, we use the patchy particle approximation."
   ]
  },
  {
   "cell_type": "code",
   "execution_count": null,
   "id": "cdabe54f",
   "metadata": {},
   "outputs": [],
   "source": [
    "function pair_energy(m1::Monomer, m2::Monomer, l::Float64, patch_energy_func::Function)\n",
    "    println(dist_pbc(m1.coord, m2.coord, l))\n",
    "    if dist_pbc(m1.coord, m2.coord, l) < (m1.radius + m2.radius)  #the hard core interaction\n",
    "        return Inf\n",
    "    end\n",
    "    energy = 0.0\n",
    "    patch_positions1 = m1.orientation * m1.patch_orientations\n",
    "    patch_positions2 = m2.orientation * m2.patch_orientations\n",
    "    for i in axes(patch_positions1, 2), j in axes(patch_positions2, 2)\n",
    "        real_patchi = m1.coord + patch_positions1[:, i]\n",
    "        real_patchj = m2.coord + patch_positions2[:, j]\n",
    "        patch_distance = dist_pbc(real_patchi, real_patchj, l)\n",
    "        energy += patch_energy_func(patch_distance, m1.patch_radii[i] + m2.patch_radii[j])\n",
    "    end\n",
    "    return energy\n",
    "end\n",
    "\n",
    "function my_patch_energy(r, R) # Example patch energy function: Gaussian attraction\n",
    "    return -exp(-(r/R)^2) \n",
    "end\n",
    "\n",
    "function rand_unit_vector()\n",
    "    v = randn(3)\n",
    "    return v / norm(v)\n",
    "end"
   ]
  },
  {
   "cell_type": "code",
   "execution_count": null,
   "id": "f289d75f",
   "metadata": {},
   "outputs": [
    {
     "data": {
      "text/plain": [
       "Monomer([0.0, 0.0, 0.0], [1.0 0.0 0.0; 0.0 1.0 0.0; 0.0 0.0 1.0], 0.5, [-0.8242047931952842 0.3496893501350819 0.7934446494526936; 0.46922726792482355 -0.9360848160715747 -0.5445339724123435; 0.3170366381188848 0.03824363374929397 -0.27189766667576465], [0.2, 0.2, 0.2])"
      ]
     },
     "metadata": {},
     "output_type": "display_data"
    }
   ],
   "source": [
    "# create a monomer m1 with orientation given by the identity matrix, and with 3 patches whose orientations are random and whose radii are 0.1   \n",
    "\n",
    "m1 = Monomer(\n",
    "    [0.0, 0.0, 0.0], \n",
    "    Matrix(Float64.(I(3))), \n",
    "    0.5, \n",
    "    hcat(rand_unit_vector(), rand_unit_vector(), rand_unit_vector()), \n",
    "    [0.2, 0.2, 0.2]\n",
    ")"
   ]
  },
  {
   "cell_type": "code",
   "execution_count": 29,
   "id": "708d3b6d",
   "metadata": {},
   "outputs": [
    {
     "data": {
      "text/plain": [
       "Monomer([0.0, 0.0, 0.0], [1.0 0.0 0.0; 0.0 1.0 0.0; 0.0 0.0 1.0], 0.5, [-0.8242047931952842 0.3496893501350819 0.7934446494526936; 0.46922726792482355 -0.9360848160715747 -0.5445339724123435; 0.3170366381188848 0.03824363374929397 -0.27189766667576465], [0.2, 0.2, 0.2])"
      ]
     },
     "metadata": {},
     "output_type": "display_data"
    }
   ],
   "source": [
    "m2 = deepcopy(m1)"
   ]
  },
  {
   "cell_type": "code",
   "execution_count": 52,
   "id": "afae3a1e",
   "metadata": {},
   "outputs": [
    {
     "data": {
      "text/plain": [
       "3×3 Matrix{Float64}:\n",
       "  0.480634   -0.575903  0.661306\n",
       "  0.0244254   0.762622  0.646383\n",
       " -0.876581   -0.294521  0.380609"
      ]
     },
     "metadata": {},
     "output_type": "display_data"
    }
   ],
   "source": [
    "m2.coord = [1, 0., 0.0] # Move m2 to a different position\n",
    "m2.orientation = rand(RotMatrix{3,Float64})*m2.orientation # Randomly rotate m2"
   ]
  },
  {
   "cell_type": "code",
   "execution_count": 53,
   "id": "8a1799ad",
   "metadata": {},
   "outputs": [
    {
     "name": "stdout",
     "output_type": "stream",
     "text": [
      "1.0\n"
     ]
    },
    {
     "data": {
      "text/plain": [
       "-0.01897119685732814"
      ]
     },
     "metadata": {},
     "output_type": "display_data"
    }
   ],
   "source": [
    "pair_energy(m1, m2, 10.0, my_patch_energy)"
   ]
  },
  {
   "cell_type": "code",
   "execution_count": null,
   "id": "7e298793",
   "metadata": {},
   "outputs": [
    {
     "data": {
      "text/plain": [
       "3×3 RotMatrix3{Float64} with indices SOneTo(3)×SOneTo(3):\n",
       "  0.999466    0.0177427  -0.0274211\n",
       " -0.0174599   0.999792    0.0105161\n",
       "  0.027602   -0.0100317   0.999569"
      ]
     },
     "metadata": {},
     "output_type": "display_data"
    }
   ],
   "source": [
    "#generate a small random rotation matrix for Monte Carlo rotation moves\n",
    "function small_random_rotation(max_angle::Float64)\n",
    "    axis = randn(3)\n",
    "    axis /= norm(axis)                # random unit vector\n",
    "    angle = rand() * max_angle        # random angle in [0, max_angle]\n",
    "    return RotMatrix(AngleAxis(angle, axis[1], axis[2], axis[3]))\n",
    "end\n",
    "\n",
    "# Example usage:\n",
    "R = small_random_rotation(0.05)"
   ]
  },
  {
   "cell_type": "code",
   "execution_count": 10,
   "id": "9fb9f430",
   "metadata": {},
   "outputs": [
    {
     "data": {
      "text/plain": [
       "monte_carlo_simulation (generic function with 1 method)"
      ]
     },
     "metadata": {},
     "output_type": "display_data"
    }
   ],
   "source": [
    "# monte carlo simulation of a system of monomers that implements both translation and rotation moves\n",
    "# use keyword arguments for clarity\n",
    "function monte_carlo_simulation(monomers::Vector{Monomer}, l::Float64; \n",
    "                                 num_steps::Int = 1000, \n",
    "                                 max_translation::Float64 = 0.1, \n",
    "                                 max_rotation::Float64 = 0.05, \n",
    "                                 patch_energy_func::Function = my_patch_energy)\n",
    "    for step in 1:num_steps\n",
    "        # Randomly select a monomer to move\n",
    "        idx = rand(1:length(monomers))\n",
    "        m = monomers[idx]\n",
    "\n",
    "        # Random translation move\n",
    "        translation = randn(3) * max_translation\n",
    "        new_coord = m.coord + translation\n",
    "        new_coord = pbc(new_coord, l)  # Apply periodic boundary conditions\n",
    "\n",
    "        # Random rotation move\n",
    "        rotation = small_random_rotation(max_rotation)\n",
    "        new_orientation = rotation * m.orientation\n",
    "\n",
    "        # Create a new monomer with the proposed changes\n",
    "        new_monomer = Monomer(new_coord, new_orientation, m.radius, m.patch_orientations, m.patch_radii)\n",
    "\n",
    "        # Calculate the energy of the new configuration\n",
    "        energy_new = 0.0\n",
    "        for other_m in monomers\n",
    "            if other_m != m\n",
    "                energy_new += pair_energy(new_monomer, other_m, l, patch_energy_func)\n",
    "            end\n",
    "        end\n",
    "\n",
    "        # Calculate the energy of the old configuration\n",
    "        energy_old = 0.0\n",
    "        for other_m in monomers\n",
    "            if other_m != m\n",
    "                energy_old += pair_energy(m, other_m, l, patch_energy_func)\n",
    "            end\n",
    "        end\n",
    "\n",
    "        # Metropolis criterion for accepting the move\n",
    "        if energy_new < energy_old || rand() < exp(-(energy_new - energy_old))\n",
    "            monomers[idx] = new_monomer  # Accept the move\n",
    "        end\n",
    "    end\n",
    "\n",
    "    return monomers\n",
    "end     "
   ]
  },
  {
   "cell_type": "code",
   "execution_count": null,
   "id": "0fd03810",
   "metadata": {},
   "outputs": [],
   "source": []
  }
 ],
 "metadata": {
  "kernelspec": {
   "display_name": "Julia 1.11.6",
   "language": "julia",
   "name": "julia-1.11"
  },
  "language_info": {
   "file_extension": ".jl",
   "mimetype": "application/julia",
   "name": "julia",
   "version": "1.11.6"
  }
 },
 "nbformat": 4,
 "nbformat_minor": 5
}
